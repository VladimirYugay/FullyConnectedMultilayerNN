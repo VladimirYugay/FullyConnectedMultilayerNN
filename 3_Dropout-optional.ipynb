{
 "cells": [
  {
   "cell_type": "markdown",
   "metadata": {},
   "source": [
    "# Optional: Dropout\n",
    "Dropout [1] is a technique for regularizing neural networks by randomly setting some features to zero during the forward pass. In this exercise you will implement a dropout layer and modify your fully-connected network to optionally use dropout.\n",
    "\n",
    "[1] Geoffrey E. Hinton et al, \"Improving neural networks by preventing co-adaptation of feature detectors\", arXiv 2012"
   ]
  },
  {
   "cell_type": "code",
   "execution_count": 8,
   "metadata": {},
   "outputs": [
    {
     "name": "stdout",
     "output_type": "stream",
     "text": [
      "The autoreload extension is already loaded. To reload it, use:\n",
      "  %reload_ext autoreload\n"
     ]
    }
   ],
   "source": [
    "# As usual, a bit of setup\n",
    "\n",
    "import time\n",
    "import numpy as np\n",
    "import matplotlib.pyplot as plt\n",
    "from exercise_code.classifiers.fc_net import *\n",
    "from exercise_code.data_utils import get_CIFAR10_data\n",
    "from exercise_code.gradient_check import eval_numerical_gradient, eval_numerical_gradient_array\n",
    "from exercise_code.solver import Solver\n",
    "\n",
    "%matplotlib inline\n",
    "plt.rcParams['figure.figsize'] = (10.0, 8.0) # set default size of plots\n",
    "plt.rcParams['image.interpolation'] = 'nearest'\n",
    "plt.rcParams['image.cmap'] = 'gray'\n",
    "\n",
    "# for auto-reloading external modules\n",
    "# see http://stackoverflow.com/questions/1907993/autoreload-of-modules-in-ipython\n",
    "%load_ext autoreload\n",
    "%autoreload 2\n",
    "\n",
    "# supress cluttering warnings in solutions\n",
    "import warnings\n",
    "warnings.filterwarnings('ignore')\n",
    "\n",
    "def rel_error(x, y):\n",
    "    \"\"\" returns relative error \"\"\"\n",
    "    return np.max(np.abs(x - y) / (np.maximum(1e-8, np.abs(x) + np.abs(y))))"
   ]
  },
  {
   "cell_type": "code",
   "execution_count": 2,
   "metadata": {},
   "outputs": [
    {
     "name": "stdout",
     "output_type": "stream",
     "text": [
      "X_train:  (48000, 3, 32, 32)\n",
      "y_train:  (48000,)\n",
      "X_val:  (1000, 3, 32, 32)\n",
      "y_val:  (1000,)\n",
      "X_test:  (1000, 3, 32, 32)\n",
      "y_test:  (1000,)\n"
     ]
    }
   ],
   "source": [
    "# Load the (preprocessed) CIFAR10 data.\n",
    "\n",
    "data = get_CIFAR10_data()\n",
    "for k, v in data.items():\n",
    "    print('%s: ' % k, v.shape)"
   ]
  },
  {
   "cell_type": "markdown",
   "metadata": {},
   "source": [
    "# Dropout forward pass\n",
    "In the file `exercise_code/layers.py`, we implemented the forward pass for dropout. "
   ]
  },
  {
   "cell_type": "code",
   "execution_count": 3,
   "metadata": {},
   "outputs": [
    {
     "name": "stdout",
     "output_type": "stream",
     "text": [
      "Running tests with p =  0.3\n",
      "Mean of input:  10.001169830142159\n",
      "Mean of train-time output:  6.998597331884849\n",
      "Mean of test-time output:  3.0003509490426485\n",
      "Fraction of train-time output set to zero:  0.30024\n",
      "Fraction of test-time output set to zero:  0.0\n",
      "\n",
      "Running tests with p =  0.6\n",
      "Mean of input:  10.001169830142159\n",
      "Mean of train-time output:  4.005384156272245\n",
      "Mean of test-time output:  6.000701898085297\n",
      "Fraction of train-time output set to zero:  0.599568\n",
      "Fraction of test-time output set to zero:  0.0\n",
      "\n",
      "Running tests with p =  0.75\n",
      "Mean of input:  10.001169830142159\n",
      "Mean of train-time output:  2.5151301665724164\n",
      "Mean of test-time output:  7.500877372606622\n",
      "Fraction of train-time output set to zero:  0.748536\n",
      "Fraction of test-time output set to zero:  0.0\n",
      "\n"
     ]
    }
   ],
   "source": [
    "x = np.random.randn(500, 500) + 10\n",
    "\n",
    "for p in [0.3, 0.6, 0.75]:\n",
    "    out, _ = dropout_forward(x, {'mode': 'train', 'p': p})\n",
    "    out_test, _ = dropout_forward(x, {'mode': 'test', 'p': p})\n",
    "\n",
    "    print('Running tests with p = ', p)\n",
    "    print('Mean of input: ', x.mean())\n",
    "    print('Mean of train-time output: ', out.mean())\n",
    "    print('Mean of test-time output: ', out_test.mean())\n",
    "    print('Fraction of train-time output set to zero: ', (out == 0).mean())\n",
    "    print('Fraction of test-time output set to zero: ', (out_test == 0).mean())\n",
    "    print()"
   ]
  },
  {
   "cell_type": "markdown",
   "metadata": {},
   "source": [
    "# Dropout backward pass\n",
    "In the file `exercise_code/layers.py`, implemented the backward pass for dropout. "
   ]
  },
  {
   "cell_type": "code",
   "execution_count": 4,
   "metadata": {},
   "outputs": [
    {
     "name": "stdout",
     "output_type": "stream",
     "text": [
      "dx relative error:  1.8928953690030906e-11\n"
     ]
    }
   ],
   "source": [
    "x = np.random.randn(10, 10) + 10\n",
    "dout = np.random.randn(*x.shape)\n",
    "\n",
    "dropout_param = {'mode': 'train', 'p': 0.8, 'seed': 123}\n",
    "out, cache = dropout_forward(x, dropout_param)\n",
    "dx = dropout_backward(dout, cache)\n",
    "dx_num = eval_numerical_gradient_array(lambda xx: dropout_forward(xx, dropout_param)[0], x, dout)\n",
    "\n",
    "print('dx relative error: ', rel_error(dx, dx_num))"
   ]
  },
  {
   "cell_type": "markdown",
   "metadata": {},
   "source": [
    "# Fully-connected nets with Dropout"
   ]
  },
  {
   "cell_type": "code",
   "execution_count": 12,
   "metadata": {},
   "outputs": [
    {
     "name": "stdout",
     "output_type": "stream",
     "text": [
      "Running check with dropout =  0\n",
      "Initial loss:  2.3109434858603737\n",
      "W0 relative error: 1.30e-07\n",
      "W1 relative error: 2.61e-07\n",
      "W2 relative error: 2.62e-07\n",
      "b0 relative error: 4.94e-09\n",
      "b1 relative error: 1.06e-09\n",
      "b2 relative error: 5.33e-11\n",
      "\n",
      "Running check with dropout =  0.25\n",
      "Initial loss:  2.2987113165568327\n",
      "W0 relative error: 7.94e-07\n",
      "W1 relative error: 1.45e-06\n",
      "W2 relative error: 8.51e-08\n",
      "b0 relative error: 2.80e-08\n",
      "b1 relative error: 4.78e-08\n",
      "b2 relative error: 8.73e-11\n",
      "\n",
      "Running check with dropout =  0.5\n",
      "Initial loss:  2.3038078155889212\n",
      "W0 relative error: 3.44e-07\n",
      "W1 relative error: 1.59e-08\n",
      "W2 relative error: 1.30e-07\n",
      "b0 relative error: 2.79e-07\n",
      "b1 relative error: 2.14e-09\n",
      "b2 relative error: 1.89e-10\n",
      "\n"
     ]
    }
   ],
   "source": [
    "N, D, H1, H2, C = 2, 15, 20, 30, 10\n",
    "X = np.random.randn(N, D)\n",
    "y = np.random.randint(C, size=(N,))\n",
    "\n",
    "for dropout in [0, 0.25, 0.5]:\n",
    "    print('Running check with dropout = ', dropout)\n",
    "    model = FullyConnectedNet([H1, H2], input_dim=D, num_classes=C,\n",
    "                              weight_scale=5e-2, dtype=np.float64,\n",
    "                              dropout=dropout, seed=123)\n",
    "\n",
    "    loss, grads = model.loss(X, y)\n",
    "    print('Initial loss: ', loss)\n",
    "\n",
    "    for name in sorted(grads):\n",
    "        f = lambda _: model.loss(X, y)[0]\n",
    "        grad_num = eval_numerical_gradient(f, model.params[name], verbose=False, h=1e-5)\n",
    "        print('%s relative error: %.2e' % (name, rel_error(grad_num, grads[name])))\n",
    "    print()"
   ]
  },
  {
   "cell_type": "markdown",
   "metadata": {},
   "source": [
    "# Regularization experiment\n",
    "As an experiment, we will train a pair of two-layer networks on 500 training examples: one will use no dropout, and one will use a dropout probability of 0.75. We will then visualize the training and validation accuracies of the two networks over time."
   ]
  },
  {
   "cell_type": "code",
   "execution_count": 13,
   "metadata": {
    "scrolled": false
   },
   "outputs": [
    {
     "name": "stdout",
     "output_type": "stream",
     "text": [
      "dropout =  0\n",
      "(Iteration 1 / 125) loss: 9.441901\n",
      "(Epoch 0 / 25) train acc: 0.250000; val_acc: 0.160000\n",
      "(Epoch 1 / 25) train acc: 0.370000; val_acc: 0.224000\n",
      "(Epoch 2 / 25) train acc: 0.528000; val_acc: 0.263000\n",
      "(Epoch 3 / 25) train acc: 0.560000; val_acc: 0.212000\n",
      "(Epoch 4 / 25) train acc: 0.632000; val_acc: 0.245000\n",
      "(Epoch 5 / 25) train acc: 0.726000; val_acc: 0.258000\n",
      "(Epoch 6 / 25) train acc: 0.816000; val_acc: 0.249000\n",
      "(Epoch 7 / 25) train acc: 0.826000; val_acc: 0.249000\n",
      "(Epoch 8 / 25) train acc: 0.864000; val_acc: 0.263000\n",
      "(Epoch 9 / 25) train acc: 0.940000; val_acc: 0.271000\n",
      "(Epoch 10 / 25) train acc: 0.902000; val_acc: 0.262000\n",
      "(Epoch 11 / 25) train acc: 0.946000; val_acc: 0.274000\n",
      "(Epoch 12 / 25) train acc: 0.946000; val_acc: 0.293000\n",
      "(Epoch 13 / 25) train acc: 0.972000; val_acc: 0.272000\n",
      "(Epoch 14 / 25) train acc: 0.952000; val_acc: 0.260000\n",
      "(Epoch 15 / 25) train acc: 0.962000; val_acc: 0.274000\n",
      "(Epoch 16 / 25) train acc: 0.978000; val_acc: 0.267000\n",
      "(Epoch 17 / 25) train acc: 0.980000; val_acc: 0.278000\n",
      "(Epoch 18 / 25) train acc: 0.976000; val_acc: 0.264000\n",
      "(Epoch 19 / 25) train acc: 0.976000; val_acc: 0.257000\n",
      "(Epoch 20 / 25) train acc: 0.996000; val_acc: 0.281000\n",
      "(Iteration 101 / 125) loss: 0.000515\n",
      "(Epoch 21 / 25) train acc: 0.982000; val_acc: 0.282000\n",
      "(Epoch 22 / 25) train acc: 0.972000; val_acc: 0.278000\n",
      "(Epoch 23 / 25) train acc: 0.984000; val_acc: 0.259000\n",
      "(Epoch 24 / 25) train acc: 0.984000; val_acc: 0.265000\n",
      "(Epoch 25 / 25) train acc: 0.970000; val_acc: 0.278000\n",
      "dropout =  0.75\n",
      "(Iteration 1 / 125) loss: 5.066163\n",
      "(Epoch 0 / 25) train acc: 0.270000; val_acc: 0.204000\n",
      "(Epoch 1 / 25) train acc: 0.350000; val_acc: 0.234000\n",
      "(Epoch 2 / 25) train acc: 0.428000; val_acc: 0.251000\n",
      "(Epoch 3 / 25) train acc: 0.484000; val_acc: 0.266000\n",
      "(Epoch 4 / 25) train acc: 0.578000; val_acc: 0.265000\n",
      "(Epoch 5 / 25) train acc: 0.590000; val_acc: 0.279000\n",
      "(Epoch 6 / 25) train acc: 0.624000; val_acc: 0.292000\n",
      "(Epoch 7 / 25) train acc: 0.694000; val_acc: 0.274000\n",
      "(Epoch 8 / 25) train acc: 0.688000; val_acc: 0.285000\n",
      "(Epoch 9 / 25) train acc: 0.744000; val_acc: 0.289000\n",
      "(Epoch 10 / 25) train acc: 0.768000; val_acc: 0.287000\n",
      "(Epoch 11 / 25) train acc: 0.812000; val_acc: 0.267000\n",
      "(Epoch 12 / 25) train acc: 0.786000; val_acc: 0.287000\n",
      "(Epoch 13 / 25) train acc: 0.814000; val_acc: 0.298000\n",
      "(Epoch 14 / 25) train acc: 0.844000; val_acc: 0.291000\n",
      "(Epoch 15 / 25) train acc: 0.810000; val_acc: 0.275000\n",
      "(Epoch 16 / 25) train acc: 0.848000; val_acc: 0.296000\n",
      "(Epoch 17 / 25) train acc: 0.870000; val_acc: 0.292000\n",
      "(Epoch 18 / 25) train acc: 0.876000; val_acc: 0.294000\n",
      "(Epoch 19 / 25) train acc: 0.896000; val_acc: 0.311000\n",
      "(Epoch 20 / 25) train acc: 0.896000; val_acc: 0.290000\n",
      "(Iteration 101 / 125) loss: 1.432128\n",
      "(Epoch 21 / 25) train acc: 0.898000; val_acc: 0.275000\n",
      "(Epoch 22 / 25) train acc: 0.912000; val_acc: 0.313000\n",
      "(Epoch 23 / 25) train acc: 0.906000; val_acc: 0.309000\n",
      "(Epoch 24 / 25) train acc: 0.928000; val_acc: 0.298000\n",
      "(Epoch 25 / 25) train acc: 0.942000; val_acc: 0.300000\n"
     ]
    }
   ],
   "source": [
    "# Train two identical nets, one with dropout and one without\n",
    "\n",
    "num_train = 500\n",
    "small_data = {\n",
    "  'X_train': data['X_train'][:num_train],\n",
    "  'y_train': data['y_train'][:num_train],\n",
    "  'X_val': data['X_val'],\n",
    "  'y_val': data['y_val'],\n",
    "}\n",
    "\n",
    "solvers = {}\n",
    "dropout_choices = [0, 0.75]\n",
    "for dropout in dropout_choices:\n",
    "    model = FullyConnectedNet([500], dropout=dropout)\n",
    "    print(\"dropout = \", dropout)\n",
    "\n",
    "    solver = Solver(model, small_data,\n",
    "                    num_epochs=25, batch_size=100,\n",
    "                    update_rule='adam',\n",
    "                    optim_config={\n",
    "                      'learning_rate': 5e-4,\n",
    "                    },\n",
    "                    verbose=True, print_every=100)\n",
    "    solver.train()\n",
    "    solvers[dropout] = solver"
   ]
  },
  {
   "cell_type": "code",
   "execution_count": 14,
   "metadata": {},
   "outputs": [
    {
     "data": {
      "image/png": "[encoded data removed]",
      "text/plain": [
       "<Figure size 1080x1080 with 2 Axes>"
      ]
     },
     "metadata": {
      "needs_background": "light"
     },
     "output_type": "display_data"
    }
   ],
   "source": [
    "# Plot train and validation accuracies of the two models\n",
    "\n",
    "train_accs = []\n",
    "val_accs = []\n",
    "for dropout in dropout_choices:\n",
    "    solver = solvers[dropout]\n",
    "    train_accs.append(solver.train_acc_history[-1])\n",
    "    val_accs.append(solver.val_acc_history[-1])\n",
    "\n",
    "plt.subplot(3, 1, 1)\n",
    "for dropout in dropout_choices:\n",
    "    plt.plot(solvers[dropout].train_acc_history, 'o', label='%.2f dropout' % dropout)\n",
    "plt.title('Train accuracy')\n",
    "plt.xlabel('Epoch')\n",
    "plt.ylabel('Accuracy')\n",
    "plt.legend(ncol=2, loc='lower right')\n",
    "  \n",
    "plt.subplot(3, 1, 2)\n",
    "for dropout in dropout_choices:\n",
    "    plt.plot(solvers[dropout].val_acc_history, 'o', label='%.2f dropout' % dropout)\n",
    "plt.title('Val accuracy')\n",
    "plt.xlabel('Epoch')\n",
    "plt.ylabel('Accuracy')\n",
    "plt.legend(ncol=2, loc='lower right')\n",
    "\n",
    "plt.gcf().set_size_inches(15, 15)\n",
    "plt.show()"
   ]
  }
 ],
 "metadata": {
  "kernelspec": {
   "display_name": "Python 3",
   "language": "python",
   "name": "python3"
  },
  "language_info": {
   "codemirror_mode": {
    "name": "ipython",
    "version": 3
   },
   "file_extension": ".py",
   "mimetype": "text/x-python",
   "name": "python",
   "nbconvert_exporter": "python",
   "pygments_lexer": "ipython3",
   "version": "3.6.6"
  }
 },
 "nbformat": 4,
 "nbformat_minor": 1
}
